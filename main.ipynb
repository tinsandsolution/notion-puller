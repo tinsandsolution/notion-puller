{
 "cells": [
  {
   "cell_type": "code",
   "execution_count": null,
   "metadata": {},
   "outputs": [],
   "source": [
    "import os\n",
    "import requests\n",
    "import json\n",
    "from pprint import pprint\n",
    "\n",
    "NOTION_SECRET = os.environ.get(\"NOTION_SECRET\")\n",
    "# git config filter.strip-notebook-output.clean 'jupyter nbconvert --ClearOutputPreprocessor.enabled=True --to=notebook --stdin --stdout --log-level=ERROR' "
   ]
  },
  {
   "cell_type": "code",
   "execution_count": null,
   "metadata": {},
   "outputs": [],
   "source": [
    "headers = {'Authorization': f\"Bearer {NOTION_SECRET}\", \n",
    "           'Content-Type': 'application/json', \n",
    "           'Notion-Version': '2022-06-28'}"
   ]
  },
  {
   "cell_type": "code",
   "execution_count": null,
   "metadata": {},
   "outputs": [],
   "source": [
    "search_params = {\"filter\": {\"value\": \"page\", \"property\": \"object\"}}\n",
    "search_response = requests.post(\n",
    "    f'https://api.notion.com/v1/search', \n",
    "    json=search_params, \n",
    "    headers=headers)\n",
    "\n",
    "pprint(search_response.json())"
   ]
  },
  {
   "cell_type": "code",
   "execution_count": null,
   "metadata": {},
   "outputs": [],
   "source": [
    "created_id = search_response.json()[\"results\"][0][\"id\"]\n",
    "\n",
    "pprint(created_id)\n",
    "\n",
    "children_response = requests.get(\n",
    "    f\"https://api.notion.com/v1/blocks/{created_id}/children\", \n",
    "    headers=headers)\n",
    "\n",
    "pprint(children_response.json())"
   ]
  },
  {
   "cell_type": "code",
   "execution_count": null,
   "metadata": {},
   "outputs": [],
   "source": [
    "# so, the first step is to basically figure out which key/value pairs will always be relevant.\n",
    "\n",
    "# the first step, really, is to get these rendered in a markdown style page.\n",
    "\n",
    "# we're going to have a folder called \"blog\"\n",
    "\n",
    "# inside that blog is going to be called \"main\""
   ]
  }
 ],
 "metadata": {
  "kernelspec": {
   "display_name": "Python 3.9.6 ('.venv': pipenv)",
   "language": "python",
   "name": "python3"
  },
  "language_info": {
   "codemirror_mode": {
    "name": "ipython",
    "version": 3
   },
   "file_extension": ".py",
   "mimetype": "text/x-python",
   "name": "python",
   "nbconvert_exporter": "python",
   "pygments_lexer": "ipython3",
   "version": "3.9.6"
  },
  "vscode": {
   "interpreter": {
    "hash": "e560774caec93f425342283ee9baee743a43524d523252b4450e4f7812285c80"
   }
  }
 },
 "nbformat": 4,
 "nbformat_minor": 2
}
